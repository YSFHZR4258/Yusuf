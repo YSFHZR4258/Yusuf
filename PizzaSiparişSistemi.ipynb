{
  "nbformat": 4,
  "nbformat_minor": 0,
  "metadata": {
    "colab": {
      "provenance": [],
      "authorship_tag": "ABX9TyMFNxa75GP8yeAMi/VLvT2i",
      "include_colab_link": true
    },
    "kernelspec": {
      "name": "python3",
      "display_name": "Python 3"
    },
    "language_info": {
      "name": "python"
    }
  },
  "cells": [
    {
      "cell_type": "markdown",
      "metadata": {
        "id": "view-in-github",
        "colab_type": "text"
      },
      "source": [
        "<a href=\"https://colab.research.google.com/github/YSFHZR4258/Yusuf/blob/main/PizzaSipari%C5%9FSistemi.ipynb\" target=\"_parent\"><img src=\"https://colab.research.google.com/assets/colab-badge.svg\" alt=\"Open In Colab\"/></a>"
      ]
    },
    {
      "cell_type": "code",
      "execution_count": null,
      "metadata": {
        "id": "sC98pkNaL-Xx"
      },
      "outputs": [],
      "source": [
        "\n",
        "# Menu.txt adlı bir dosya oluşturun ve içine aşağıdaki metni yazın.\n",
        "import csv\n",
        "import datetime\n",
        "from typing_extensions import Self\n",
        "from ast import Return\n",
        "\n",
        "deger_pizza_musteri = [\"yusuf\",\"hazar\"]\n",
        "with open('menu.txt','a') as pizza_musteri:\n",
        "  yazdırma_islem = csv.writer(pizza_musteri)\n",
        "  yazdırma_islem.writerow(deger_pizza_musteri)\n",
        "\n",
        "deger_pizza_musteri = [\"yusuf\",\"hazar\"]\n",
        "with open('Orders_Database.csv','a') as pizza_musteri:\n",
        "  yazdırma_islem = csv.writer(pizza_musteri)\n",
        "  yazdırma_islem.writerow(deger_pizza_musteri)\n",
        "\n",
        "print(\"İsim, Soyisim, TC kimlik numarası, Kredi Kartı Numarası, Kredi Kartı Son Kullanma Tarihi, Kredi Kartı Şifresi:\");\n",
        "\n",
        "class Pizza():\n",
        "  def __init__(self, isim, fiyat):\n",
        "    super().__init__(isim,fiyat)\n",
        "  \n",
        "  print(\"Lütfen bir pizza tabanı seciniz:\");\n",
        "\n",
        "  ('1  Klasik Pizza = 5,39 TL')    \n",
        "  \n",
        "  ('2  Margarita = 7,69 TL')\n",
        "  \n",
        "  ('3  Türk Pizza = 4,90 TL')\n",
        "  \n",
        "  ('4  Sade Pizza = 6,45 TL')\n",
        "  \n",
        "  ('5  İtalyan Pizza = 9,99 TL')\n",
        "  \n",
        "  ('6  Amerikan Pizza = 8,86 TL')\n",
        "  \n",
        "  ('7  Special Pizza = 10,55 TL')\n",
        "\n",
        "  ('8  Ev Pizza = 4,99 TL')   \n",
        "\n",
        "  print(\"Ve sececeginiz sos:\");\n",
        "  \n",
        "  ('9  Kasar Peyniri = 2,59 TL')\n",
        "  \n",
        "  ('10  Roquefort Peyniri = 10,99 TL')\n",
        "  \n",
        "  ('11  Zeytin = 5,55 TL')\n",
        "    \n",
        "  ('12  Mantar = 6,69 TL')\n",
        "  \n",
        "  ('13  Keci Peyniri = 3,05 TL')\n",
        "  \n",
        "  ('14  Et = 9,80 TL')\n",
        "  \n",
        "  ('15  Sogan = 4,50 TL')\n",
        "  \n",
        "  ('16  Mısır = 8,60 TL')\n",
        "  \n",
        "  ('17  Biber = 2,40 TL')\n",
        "  \n",
        "  ('18  Sucuk = 7,65 TL')\n",
        "\n",
        "  print(\"Teşekkür ederiz!\")\n",
        "# Üst Sınıf Oluşturma: Pizza.\n",
        "\n",
        "class Pizza(): \n",
        "  def __init__(get_description):\n",
        "   Self()\n",
        "  \n",
        "  def __init__(get_cost):\n",
        "   Self()\n",
        "# Alt Sınıf Oluşturma: Pizza.\n",
        "\n",
        "class pizza():\n",
        "  def __init__(self,isim,fiyat):\n",
        "   self.isim = isim\n",
        "   self.fiyat = fiyat\n",
        "\n",
        "# Üst sınıf oluşturma: bir Decorator sınıfı oluşturucağız.\n",
        "class Decorator(): \n",
        "   def get_cost(self):\n",
        "     return self.component.get_cost() + \\\n",
        "       Pizza.get_cost(self)\n",
        " \n",
        "\n",
        "   def get_description(self):\n",
        "     return self.component.get_description() + \\\n",
        "       ' ' + Pizza.get_description(self)        "
      ]
    }
  ]
}